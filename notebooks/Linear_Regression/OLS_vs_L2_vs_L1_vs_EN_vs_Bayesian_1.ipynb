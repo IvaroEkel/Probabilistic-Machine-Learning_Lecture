{
  "nbformat": 4,
  "nbformat_minor": 0,
  "metadata": {
    "colab": {
      "private_outputs": true,
      "provenance": [],
      "authorship_tag": "ABX9TyNnenPFi+6V57uNQF+/et0U",
      "include_colab_link": true
    },
    "kernelspec": {
      "name": "python3",
      "display_name": "Python 3"
    },
    "language_info": {
      "name": "python"
    }
  },
  "cells": [
    {
      "cell_type": "markdown",
      "metadata": {
        "id": "view-in-github",
        "colab_type": "text"
      },
      "source": [
        "<a href=\"https://colab.research.google.com/github/IvaroEkel/Probabilistic-Machine-Learning_Lecture/blob/main/OLS_vs_L2_vs_L1_vs_EN_vs_Bayesian_1.ipynb\" target=\"_parent\"><img src=\"https://colab.research.google.com/assets/colab-badge.svg\" alt=\"Open In Colab\"/></a>"
      ]
    },
    {
      "cell_type": "code",
      "execution_count": null,
      "metadata": {
        "id": "NVTGPS-JVbyA"
      },
      "outputs": [],
      "source": [
        "# Install necessary packages (usually already available in colab)\n",
        "# !pip install scikit-learn matplotlib\n",
        "\n",
        "# Imports\n",
        "import numpy as np\n",
        "import matplotlib.pyplot as plt\n",
        "from sklearn.linear_model import LinearRegression, Ridge, Lasso, ElasticNet, BayesianRidge\n",
        "from sklearn.model_selection import train_test_split\n",
        "\n",
        "# Generate synthetic data\n",
        "np.random.seed(42)\n",
        "X = 2 * np.random.rand(100, 1)\n",
        "y = 4 + 3 * X[:, 0] + np.random.randn(100) # true relation is linear with noise\n",
        "\n",
        "# Add outliers to make it more interesting\n",
        "X_outliers = np.random.uniform(1.0, 3, size=(10, 1))\n",
        "y_outliers = 10 + np.random.randn(10)\n",
        "X = np.vstack((X, X_outliers))\n",
        "y = np.hstack((y, y_outliers))\n",
        "\n",
        "# Split into train/test\n",
        "X_train, X_test, y_train, y_test = train_test_split(X, y, test_size=0.2, random_state=42)\n",
        "\n",
        "# define models\n",
        "lin_reg = LinearRegression()\n",
        "ridge_reg = Ridge(alpha=1.0)\n",
        "lasso_reg = Lasso(alpha=0.1)\n",
        "elastic_net = ElasticNet(alpha=0.1, l1_ratio=0.5)\n",
        "bayesian_ridge = BayesianRidge()\n",
        "\n",
        "models = {\n",
        "    \"Linear Regression\": lin_reg,\n",
        "    \"Ridge Regression\": ridge_reg,\n",
        "    \"Lasso Regression\": lasso_reg,\n",
        "    \"Elastic Net\": elastic_net,\n",
        "    \"Bayesian Ridge Regression\": bayesian_ridge\n",
        "}\n",
        "\n",
        "# Train models\n",
        "for name, model in models.items():\n",
        "    model.fit(X_train, y_train)\n",
        "\n",
        "# Plotting\n",
        "plt.figure(figsize=(12, 8))\n",
        "X_plot = np.linspace(0, 2.5, 100).reshape(100, 1)\n",
        "\n",
        "for name, model in models.items():\n",
        "    y_pred = model.predict(X_plot)\n",
        "    plt.plot(X_plot, y_pred, label=name)\n",
        "\n",
        "plt.scatter(X_train, y_train, color='black', label='Training Data')\n",
        "plt.scatter(X_test, y_test, color='red', label='Test Data')\n",
        "plt.title(\"Comparison of different regression techniques\")\n",
        "plt.xlabel(\"X\")\n",
        "plt.ylabel(\"y\")\n",
        "plt.legend()\n",
        "plt.grid(True)\n",
        "plt.show()\n",
        "\n",
        "# Print coefficients\n",
        "print(\"Coefficients and Intercepts:\")\n",
        "for name, model in models.items():\n",
        "    print(f\"{name}: Coefficient={model.coef_[0]:.4f}, Intercept={model.intercept_:.4f}\")"
      ]
    },
    {
      "cell_type": "code",
      "source": [],
      "metadata": {
        "id": "0YFkR1fhV0Pa"
      },
      "execution_count": null,
      "outputs": []
    }
  ]
}