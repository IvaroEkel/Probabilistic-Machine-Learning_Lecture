{
  "nbformat": 4,
  "nbformat_minor": 0,
  "metadata": {
    "colab": {
      "private_outputs": true,
      "provenance": [],
      "authorship_tag": "ABX9TyPwLd1smXMCMGjshSVLYh0A",
      "include_colab_link": true
    },
    "kernelspec": {
      "name": "python3",
      "display_name": "Python 3"
    },
    "language_info": {
      "name": "python"
    }
  },
  "cells": [
    {
      "cell_type": "markdown",
      "metadata": {
        "id": "view-in-github",
        "colab_type": "text"
      },
      "source": [
        "<a href=\"https://colab.research.google.com/github/IvaroEkel/Probabilistic-Machine-Learning_Lecture/blob/main/Simplified_Tikhonov_regularization.ipynb\" target=\"_parent\"><img src=\"https://colab.research.google.com/assets/colab-badge.svg\" alt=\"Open In Colab\"/></a>"
      ]
    },
    {
      "cell_type": "code",
      "execution_count": null,
      "metadata": {
        "id": "0Clvjnl7fLRh"
      },
      "outputs": [],
      "source": [
        "import numpy as np\n",
        "import matplotlib.pyplot as plt\n",
        "\n",
        "# Set random seed for reproducibility\n",
        "np.random.seed(42)\n",
        "\n",
        "# Generate a random matrix\n",
        "U, _ = np.linalg.qr(np.random.randn(100, 100)) # Orthogonal matrix\n",
        "V, _ = np.linalg.qr(np.random.randn(100, 100)) # Another orthogonal matrix\n",
        "singular_values = np.linspace(1, 1e-4, 100) # Decreasing singular values to control condition number\n",
        "\n",
        "# Create a matrix with controlled singular values\n",
        "S = np.diag(singular_values)\n",
        "A = U @ S @ V.T # A = U S V^T\n",
        "\n",
        "# Check initial condition number\n",
        "cond_A = np.linalg.cond(A)\n",
        "print(f\"Condition number of original matrix A: {cond_A:.2e}\")\n",
        "\n",
        "# Apply Ridge regularization (add lambda * I)\n",
        "lambda_ridge = 1.0\n",
        "A_ridge = A + lambda_ridge * np.eye(100)\n",
        "\n",
        "# Check condition number after regularization\n",
        "cond_A_ridge = np.linalg.cond(A_ridge)\n",
        "print(f\"Condition number after Ridge regularization: {cond_A_ridge:.2e}\")\n",
        "\n",
        "# Show the eigenvalues before and after\n",
        "eigvals_A = np.linalg.eigvalsh(A) # use eigvalsh for symmetric matrices\n",
        "eigvals_A_ridge = np.linalg.eigvalsh(A_ridge)\n",
        "\n",
        "# Plotting eigenvalues before and after\n",
        "plt.figure(figsize=(10, 6))\n",
        "plt.plot(np.sort(eigvals_A), label='Original eigenvalues')\n",
        "plt.plot(np.sort(eigvals_A_ridge), label='After Ridge regularization')\n",
        "plt.yscale('log')\n",
        "plt.title('Eigenvalues before and after Ridge regularization')\n",
        "plt.xlabel('Index')\n",
        "plt.ylabel('Eigenvalue (log scale)')\n",
        "plt.grid(True)\n",
        "plt.legend()\n",
        "plt.show()"
      ]
    },
    {
      "cell_type": "code",
      "source": [],
      "metadata": {
        "id": "nvTnqlWefVkA"
      },
      "execution_count": null,
      "outputs": []
    }
  ]
}