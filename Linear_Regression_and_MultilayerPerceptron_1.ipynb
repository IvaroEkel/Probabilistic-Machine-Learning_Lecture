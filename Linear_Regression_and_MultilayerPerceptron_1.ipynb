{
  "nbformat": 4,
  "nbformat_minor": 0,
  "metadata": {
    "colab": {
      "private_outputs": true,
      "provenance": [],
      "authorship_tag": "ABX9TyPYT0fG8axT2StAqBnVSj98",
      "include_colab_link": true
    },
    "kernelspec": {
      "name": "python3",
      "display_name": "Python 3"
    },
    "language_info": {
      "name": "python"
    }
  },
  "cells": [
    {
      "cell_type": "markdown",
      "metadata": {
        "id": "view-in-github",
        "colab_type": "text"
      },
      "source": [
        "<a href=\"https://colab.research.google.com/github/IvaroEkel/Probabilistic-Machine-Learning_Lecture/blob/main/Linear_Regression_and_MultilayerPerceptron_1.ipynb\" target=\"_parent\"><img src=\"https://colab.research.google.com/assets/colab-badge.svg\" alt=\"Open In Colab\"/></a>"
      ]
    },
    {
      "cell_type": "code",
      "execution_count": null,
      "metadata": {
        "id": "Y958wwZJfTfT"
      },
      "outputs": [],
      "source": [
        "import numpy as np\n",
        "import matplotlib.pyplot as plt\n",
        "from sklearn.linear_model import LinearRegression\n",
        "from sklearn.neural_network import MLPRegressor\n",
        "from sklearn.model_selection import train_test_split\n",
        "from sklearn.metrics import mean_squared_error\n",
        "\n",
        "# Generate synthetic data: y = 3x + 5 + noise\n",
        "np.random.seed(42)\n",
        "X = 2 * np.random.rand(100, 1)\n",
        "y = 3 * X[:, 0] + 5 + np.random.randn(100) * 0.5\n",
        "\n",
        "# Split into training and testing\n",
        "X_train, X_test, y_train, y_test = train_test_split(X, y, test_size=0.2)\n",
        "\n",
        "# 1. Linear Regression\n",
        "lr_model = LinearRegression()\n",
        "lr_model.fit(X_train, y_train)\n",
        "y_pred_lr = lr_model.predict(X_test)\n",
        "mse_lr = mean_squared_error(y_test, y_pred_lr)\n",
        "\n",
        "# 2. Neural Network with no hidden layers (acts like linear regression)\n",
        "nn_linear = MLPRegressor(hidden_layer_sizes=(), activation='identity', max_iter=1000)\n",
        "nn_linear.fit(X_train, y_train)\n",
        "y_pred_nn_linear = nn_linear.predict(X_test)\n",
        "mse_nn_linear = mean_squared_error(y_test, y_pred_nn_linear)\n",
        "\n",
        "# 3. Neural Network with hidden layers\n",
        "nn_model = MLPRegressor(hidden_layer_sizes=(2,), activation='identity', max_iter=1000)\n",
        "nn_model.fit(X_train, y_train)\n",
        "y_pred_nn = nn_model.predict(X_test)\n",
        "mse_nn = mean_squared_error(y_test, y_pred_nn)\n",
        "\n",
        "# Plot results\n",
        "plt.figure(figsize=(12, 5))\n",
        "\n",
        "# Plot Linear Regression\n",
        "plt.subplot(1, 3, 1)\n",
        "plt.scatter(X_test, y_test, color='black', label='True Data')\n",
        "plt.plot(X_test, y_pred_lr, color='blue', label='Linear Regression')\n",
        "plt.title(f'Linear Regression\\nMSE: {mse_lr:.2f}')\n",
        "plt.legend()\n",
        "\n",
        "# Plot NN with No Hidden Layer\n",
        "plt.subplot(1, 3, 2)\n",
        "plt.scatter(X_test, y_test, color='black', label='True Data')\n",
        "plt.plot(X_test, y_pred_nn_linear, color='green', label='NN (Linear)')\n",
        "plt.title(f'NN with No Hidden Layer\\nMSE: {mse_nn_linear:.2f}')\n",
        "plt.legend()\n",
        "\n",
        "# Plot NN with Hidden Layer\n",
        "plt.subplot(1, 3, 3)\n",
        "plt.scatter(X_test, y_test, color='black', label='True Data')\n",
        "plt.scatter(X_test, y_pred_nn, color='red', label='NN (Hidden Layer)', s=10)\n",
        "plt.title(f'NN with Hidden Layer\\nMSE: {mse_nn:.2f}')\n",
        "plt.legend()\n",
        "\n",
        "plt.tight_layout()\n",
        "plt.show()"
      ]
    },
    {
      "cell_type": "code",
      "source": [],
      "metadata": {
        "id": "tB2juV8TfZdw"
      },
      "execution_count": null,
      "outputs": []
    }
  ]
}